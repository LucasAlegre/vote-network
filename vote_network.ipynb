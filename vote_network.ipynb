{
  "nbformat": 4,
  "nbformat_minor": 0,
  "metadata": {
    "colab": {
      "name": "vote-network.ipynb",
      "provenance": [],
      "toc_visible": true,
      "include_colab_link": true
    },
    "interpreter": {
      "hash": "9ca7ddddbdb4ba73e108b0b6f8849f53dfbdd3c4370f8b288b8abe6f0568bc83"
    },
    "kernelspec": {
      "display_name": "Python 3.9.7 64-bit ('PhD': conda)",
      "name": "python3"
    },
    "language_info": {
      "codemirror_mode": {
        "name": "ipython",
        "version": 3
      },
      "file_extension": ".py",
      "mimetype": "text/x-python",
      "name": "python",
      "nbconvert_exporter": "python",
      "pygments_lexer": "ipython3",
      "version": "3.9.5"
    }
  },
  "cells": [
    {
      "cell_type": "markdown",
      "metadata": {
        "id": "view-in-github",
        "colab_type": "text"
      },
      "source": [
        "<a href=\"https://colab.research.google.com/github/LucasAlegre/vote-network/blob/master/vote_network.ipynb\" target=\"_parent\"><img src=\"https://colab.research.google.com/assets/colab-badge.svg\" alt=\"Open In Colab\"/></a>"
      ]
    },
    {
      "cell_type": "markdown",
      "metadata": {
        "id": "M-Zp1NYesw43"
      },
      "source": [
        "## Install and import libraries"
      ]
    },
    {
      "cell_type": "code",
      "metadata": {
        "id": "hhdctX4X1U28",
        "outputId": "14cdc52d-2935-4782-dcfa-26e28746b3b2",
        "colab": {
          "base_uri": "https://localhost:8080/",
          "height": 851
        }
      },
      "source": [
        "! pip install --user graphistry\n",
        "! pip install python-igraph"
      ],
      "execution_count": 1,
      "outputs": [
        {
          "output_type": "stream",
          "name": "stdout",
          "text": [
            "Collecting graphistry\n",
            "  Downloading graphistry-0.29.1-py3-none-any.whl (227 kB)\n",
            "\u001b[?25l     \u001b[90m━━━━━━━━━━━━━━━━━━━━━━━━━━━━━━━━━━━━━━━━\u001b[0m \u001b[32m0.0/227.9 kB\u001b[0m \u001b[31m?\u001b[0m eta \u001b[36m-:--:--\u001b[0m\r\u001b[2K     \u001b[90m━━━━━━━━━━━━━━━━━━━━━━━━━━━━━━━━━━━━━━━\u001b[0m \u001b[32m227.9/227.9 kB\u001b[0m \u001b[31m8.6 MB/s\u001b[0m eta \u001b[36m0:00:00\u001b[0m\n",
            "\u001b[?25hRequirement already satisfied: numpy in /usr/local/lib/python3.10/dist-packages (from graphistry) (1.22.4)\n",
            "Requirement already satisfied: palettable>=3.0 in /usr/local/lib/python3.10/dist-packages (from graphistry) (3.3.3)\n",
            "Requirement already satisfied: pandas<2.0.0 in /usr/local/lib/python3.10/dist-packages (from graphistry) (1.5.3)\n",
            "Requirement already satisfied: pyarrow>=0.15.0 in /usr/local/lib/python3.10/dist-packages (from graphistry) (9.0.0)\n",
            "Requirement already satisfied: requests in /usr/local/lib/python3.10/dist-packages (from graphistry) (2.27.1)\n",
            "Collecting squarify (from graphistry)\n",
            "  Downloading squarify-0.4.3-py3-none-any.whl (4.3 kB)\n",
            "Requirement already satisfied: typing-extensions in /usr/local/lib/python3.10/dist-packages (from graphistry) (4.6.3)\n",
            "Requirement already satisfied: packaging>=20.1 in /usr/local/lib/python3.10/dist-packages (from graphistry) (23.1)\n",
            "Collecting setuptools<60.0.0 (from graphistry)\n",
            "  Downloading setuptools-59.8.0-py3-none-any.whl (952 kB)\n",
            "\u001b[2K     \u001b[90m━━━━━━━━━━━━━━━━━━━━━━━━━━━━━━━━━━━━━━\u001b[0m \u001b[32m952.8/952.8 kB\u001b[0m \u001b[31m41.6 MB/s\u001b[0m eta \u001b[36m0:00:00\u001b[0m\n",
            "\u001b[?25hRequirement already satisfied: python-dateutil>=2.8.1 in /usr/local/lib/python3.10/dist-packages (from pandas<2.0.0->graphistry) (2.8.2)\n",
            "Requirement already satisfied: pytz>=2020.1 in /usr/local/lib/python3.10/dist-packages (from pandas<2.0.0->graphistry) (2022.7.1)\n",
            "Requirement already satisfied: urllib3<1.27,>=1.21.1 in /usr/local/lib/python3.10/dist-packages (from requests->graphistry) (1.26.16)\n",
            "Requirement already satisfied: certifi>=2017.4.17 in /usr/local/lib/python3.10/dist-packages (from requests->graphistry) (2023.5.7)\n",
            "Requirement already satisfied: charset-normalizer~=2.0.0 in /usr/local/lib/python3.10/dist-packages (from requests->graphistry) (2.0.12)\n",
            "Requirement already satisfied: idna<4,>=2.5 in /usr/local/lib/python3.10/dist-packages (from requests->graphistry) (3.4)\n",
            "Requirement already satisfied: six>=1.5 in /usr/local/lib/python3.10/dist-packages (from python-dateutil>=2.8.1->pandas<2.0.0->graphistry) (1.16.0)\n",
            "Installing collected packages: squarify, setuptools, graphistry\n",
            "\u001b[31mERROR: pip's dependency resolver does not currently take into account all the packages that are installed. This behaviour is the source of the following dependency conflicts.\n",
            "ipython 7.34.0 requires jedi>=0.16, which is not installed.\n",
            "arviz 0.15.1 requires setuptools>=60.0.0, but you have setuptools 59.8.0 which is incompatible.\n",
            "cvxpy 1.3.1 requires setuptools>65.5.1, but you have setuptools 59.8.0 which is incompatible.\u001b[0m\u001b[31m\n",
            "\u001b[0mSuccessfully installed graphistry-0.29.1 setuptools-59.8.0 squarify-0.4.3\n"
          ]
        },
        {
          "output_type": "display_data",
          "data": {
            "application/vnd.colab-display-data+json": {
              "pip_warning": {
                "packages": [
                  "_distutils_hack",
                  "pkg_resources",
                  "setuptools"
                ]
              }
            }
          },
          "metadata": {}
        },
        {
          "output_type": "stream",
          "name": "stdout",
          "text": [
            "Collecting python-igraph\n",
            "  Downloading python-igraph-0.10.4.tar.gz (9.5 kB)\n",
            "  Preparing metadata (setup.py) ... \u001b[?25l\u001b[?25hdone\n",
            "Collecting igraph==0.10.4 (from python-igraph)\n",
            "  Downloading igraph-0.10.4-cp39-abi3-manylinux_2_17_x86_64.manylinux2014_x86_64.whl (3.3 MB)\n",
            "\u001b[2K     \u001b[90m━━━━━━━━━━━━━━━━━━━━━━━━━━━━━━━━━━━━━━━━\u001b[0m \u001b[32m3.3/3.3 MB\u001b[0m \u001b[31m19.5 MB/s\u001b[0m eta \u001b[36m0:00:00\u001b[0m\n",
            "\u001b[?25hCollecting texttable>=1.6.2 (from igraph==0.10.4->python-igraph)\n",
            "  Downloading texttable-1.6.7-py2.py3-none-any.whl (10 kB)\n",
            "Building wheels for collected packages: python-igraph\n",
            "  Building wheel for python-igraph (setup.py) ... \u001b[?25l\u001b[?25hdone\n",
            "  Created wheel for python-igraph: filename=python_igraph-0.10.4-py3-none-any.whl size=9075 sha256=5af92e9eadf841da8b8e9cb9df8902eab1ff508741ee77ae1352877ee7b23f3e\n",
            "  Stored in directory: /root/.cache/pip/wheels/49/27/15/dcf90953e3e3322e6f3e447514b20cf39b53c6518cb4a7bace\n",
            "Successfully built python-igraph\n",
            "Installing collected packages: texttable, igraph, python-igraph\n",
            "Successfully installed igraph-0.10.4 python-igraph-0.10.4 texttable-1.6.7\n"
          ]
        }
      ]
    },
    {
      "cell_type": "code",
      "metadata": {
        "id": "-qxJmQMx1Y0J"
      },
      "source": [
        "import graphistry\n",
        "import pandas as pd\n",
        "import urllib.request\n",
        "import requests\n",
        "from datetime import date\n",
        "import numpy as np\n",
        "from igraph import Graph, summary\n",
        "from itertools import combinations\n",
        "import os\n",
        "# Init graphistry\n",
        "graphistry.register(api=3, protocol=\"https\", server=\"hub.graphistry.com\", username=\"LucasAlegre\", password=\"\")"
      ],
      "execution_count": 2,
      "outputs": []
    },
    {
      "cell_type": "markdown",
      "metadata": {
        "id": "Vu_A80wptFFY"
      },
      "source": [
        "## Data Retrieval and Processing"
      ]
    },
    {
      "cell_type": "code",
      "metadata": {
        "id": "L-guPMyGt2hz"
      },
      "source": [
        "start_date = '2023-01-01' #@param {type:\"date\"}\n",
        "end_date = '2023-12-31' #@param {type:\"date\"}\n",
        "start_date = pd.to_datetime(start_date)\n",
        "end_date = pd.to_datetime(end_date)"
      ],
      "execution_count": 16,
      "outputs": []
    },
    {
      "cell_type": "code",
      "metadata": {
        "colab": {
          "base_uri": "https://localhost:8080/",
          "height": 661
        },
        "id": "bko23ypVtL3n",
        "outputId": "6ea7c295-5fb7-4966-9412-a3c2b5c8988c"
      },
      "source": [
        "# Collect all votes between start and end dates\n",
        "os.makedirs('data', exist_ok=True)\n",
        "for year in range(start_date.year, end_date.year + 1):\n",
        "    # Read or download votes\n",
        "    path = 'data/votacoesVotos-{}.csv'.format(year)\n",
        "    if not os.path.isfile(path) or year == 2021:\n",
        "        urllib.request.urlretrieve('https://dadosabertos.camara.leg.br/arquivos/votacoesVotos/csv/votacoesVotos-{}.csv'.format(year), path)\n",
        "    vote_data = pd.read_csv(path, sep=';')\n",
        "\n",
        "    # Remove simbolic votes\n",
        "    vote_data = vote_data[vote_data['voto'] != 'Simbólico']\n",
        "\n",
        "    # Filter dates\n",
        "    vote_data['dataHoraVoto'] = pd.to_datetime(vote_data['dataHoraVoto'])\n",
        "    vote_data = vote_data.loc[(vote_data['dataHoraVoto'] >= start_date) & (vote_data['dataHoraVoto'] <= end_date)]\n",
        "    vote_data.sort_values(by=['dataHoraVoto'], inplace=True)\n",
        "\n",
        "    if year == start_date.year:\n",
        "        votes = vote_data\n",
        "    else:\n",
        "        votes = pd.concat([votes, vote_data])\n",
        "votes"
      ],
      "execution_count": 17,
      "outputs": [
        {
          "output_type": "execute_result",
          "data": {
            "text/plain": [
              "       idVotacao                                         uriVotacao  \\\n",
              "13220  2351332-7  https://dadosabertos.camara.leg.br/api/v2/vota...   \n",
              "13117  2351332-7  https://dadosabertos.camara.leg.br/api/v2/vota...   \n",
              "13120  2351332-7  https://dadosabertos.camara.leg.br/api/v2/vota...   \n",
              "13004  2351332-7  https://dadosabertos.camara.leg.br/api/v2/vota...   \n",
              "13346  2351332-7  https://dadosabertos.camara.leg.br/api/v2/vota...   \n",
              "...          ...                                                ...   \n",
              "25189  2369594-8  https://dadosabertos.camara.leg.br/api/v2/vota...   \n",
              "25140  2369594-8  https://dadosabertos.camara.leg.br/api/v2/vota...   \n",
              "25265  2369594-8  https://dadosabertos.camara.leg.br/api/v2/vota...   \n",
              "25357  2369594-8  https://dadosabertos.camara.leg.br/api/v2/vota...   \n",
              "25434  2369594-8  https://dadosabertos.camara.leg.br/api/v2/vota...   \n",
              "\n",
              "             dataHoraVoto       voto  deputado_id  \\\n",
              "13220 2023-03-14 18:57:15  Artigo 17       178954   \n",
              "13117 2023-03-14 18:57:28        Sim       160575   \n",
              "13120 2023-03-14 18:57:45        Sim        74454   \n",
              "13004 2023-03-14 18:57:55        Sim       204356   \n",
              "13346 2023-03-14 18:58:04        Sim       160621   \n",
              "...                   ...        ...          ...   \n",
              "25189 2023-06-20 18:29:48        Sim       220673   \n",
              "25140 2023-06-20 18:30:04        Sim       160538   \n",
              "25265 2023-06-20 18:30:16        Sim       178873   \n",
              "25357 2023-06-20 18:30:22        Sim       220647   \n",
              "25434 2023-06-20 18:30:32        Sim       220575   \n",
              "\n",
              "                                            deputado_uri     deputado_nome  \\\n",
              "13220  https://dadosabertos.camara.leg.br/api/v2/depu...    Lucio Mosquini   \n",
              "13117  https://dadosabertos.camara.leg.br/api/v2/depu...       Erika Kokay   \n",
              "13120  https://dadosabertos.camara.leg.br/api/v2/depu...  Eunício Oliveira   \n",
              "13004  https://dadosabertos.camara.leg.br/api/v2/depu...        Amaro Neto   \n",
              "13346  https://dadosabertos.camara.leg.br/api/v2/depu...       Sandro Alex   \n",
              "...                                                  ...               ...   \n",
              "25189  https://dadosabertos.camara.leg.br/api/v2/depu...  Delegado Caveira   \n",
              "25140  https://dadosabertos.camara.leg.br/api/v2/depu...         Bohn Gass   \n",
              "25265  https://dadosabertos.camara.leg.br/api/v2/depu...    Helder Salomão   \n",
              "25357  https://dadosabertos.camara.leg.br/api/v2/depu...    Mauricio Neves   \n",
              "25434  https://dadosabertos.camara.leg.br/api/v2/depu...    Sonize Barbosa   \n",
              "\n",
              "      deputado_siglaPartido  \\\n",
              "13220                   MDB   \n",
              "13117                    PT   \n",
              "13120                   MDB   \n",
              "13004          REPUBLICANOS   \n",
              "13346                   PSD   \n",
              "...                     ...   \n",
              "25189                    PL   \n",
              "25140                    PT   \n",
              "25265                    PT   \n",
              "25357                    PP   \n",
              "25434                    PL   \n",
              "\n",
              "                                     deputado_uriPartido deputado_siglaUf  \\\n",
              "13220  https://dadosabertos.camara.leg.br/api/v2/part...               RO   \n",
              "13117  https://dadosabertos.camara.leg.br/api/v2/part...               DF   \n",
              "13120  https://dadosabertos.camara.leg.br/api/v2/part...               CE   \n",
              "13004  https://dadosabertos.camara.leg.br/api/v2/part...               ES   \n",
              "13346  https://dadosabertos.camara.leg.br/api/v2/part...               PR   \n",
              "...                                                  ...              ...   \n",
              "25189  https://dadosabertos.camara.leg.br/api/v2/part...               PA   \n",
              "25140  https://dadosabertos.camara.leg.br/api/v2/part...               RS   \n",
              "25265  https://dadosabertos.camara.leg.br/api/v2/part...               ES   \n",
              "25357  https://dadosabertos.camara.leg.br/api/v2/part...               SP   \n",
              "25434  https://dadosabertos.camara.leg.br/api/v2/part...               AP   \n",
              "\n",
              "       deputado_idLegislatura  \\\n",
              "13220                      57   \n",
              "13117                      57   \n",
              "13120                      57   \n",
              "13004                      57   \n",
              "13346                      57   \n",
              "...                       ...   \n",
              "25189                      57   \n",
              "25140                      57   \n",
              "25265                      57   \n",
              "25357                      57   \n",
              "25434                      57   \n",
              "\n",
              "                                        deputado_urlFoto  \n",
              "13220  https://www.camara.leg.br/internet/deputado/ba...  \n",
              "13117  https://www.camara.leg.br/internet/deputado/ba...  \n",
              "13120  https://www.camara.leg.br/internet/deputado/ba...  \n",
              "13004  https://www.camara.leg.br/internet/deputado/ba...  \n",
              "13346  https://www.camara.leg.br/internet/deputado/ba...  \n",
              "...                                                  ...  \n",
              "25189  https://www.camara.leg.br/internet/deputado/ba...  \n",
              "25140  https://www.camara.leg.br/internet/deputado/ba...  \n",
              "25265  https://www.camara.leg.br/internet/deputado/ba...  \n",
              "25357  https://www.camara.leg.br/internet/deputado/ba...  \n",
              "25434  https://www.camara.leg.br/internet/deputado/ba...  \n",
              "\n",
              "[27759 rows x 12 columns]"
            ],
            "text/html": [
              "\n",
              "  <div id=\"df-fc61eb67-b478-4a62-a8a6-d0dfa82f0196\">\n",
              "    <div class=\"colab-df-container\">\n",
              "      <div>\n",
              "<style scoped>\n",
              "    .dataframe tbody tr th:only-of-type {\n",
              "        vertical-align: middle;\n",
              "    }\n",
              "\n",
              "    .dataframe tbody tr th {\n",
              "        vertical-align: top;\n",
              "    }\n",
              "\n",
              "    .dataframe thead th {\n",
              "        text-align: right;\n",
              "    }\n",
              "</style>\n",
              "<table border=\"1\" class=\"dataframe\">\n",
              "  <thead>\n",
              "    <tr style=\"text-align: right;\">\n",
              "      <th></th>\n",
              "      <th>idVotacao</th>\n",
              "      <th>uriVotacao</th>\n",
              "      <th>dataHoraVoto</th>\n",
              "      <th>voto</th>\n",
              "      <th>deputado_id</th>\n",
              "      <th>deputado_uri</th>\n",
              "      <th>deputado_nome</th>\n",
              "      <th>deputado_siglaPartido</th>\n",
              "      <th>deputado_uriPartido</th>\n",
              "      <th>deputado_siglaUf</th>\n",
              "      <th>deputado_idLegislatura</th>\n",
              "      <th>deputado_urlFoto</th>\n",
              "    </tr>\n",
              "  </thead>\n",
              "  <tbody>\n",
              "    <tr>\n",
              "      <th>13220</th>\n",
              "      <td>2351332-7</td>\n",
              "      <td>https://dadosabertos.camara.leg.br/api/v2/vota...</td>\n",
              "      <td>2023-03-14 18:57:15</td>\n",
              "      <td>Artigo 17</td>\n",
              "      <td>178954</td>\n",
              "      <td>https://dadosabertos.camara.leg.br/api/v2/depu...</td>\n",
              "      <td>Lucio Mosquini</td>\n",
              "      <td>MDB</td>\n",
              "      <td>https://dadosabertos.camara.leg.br/api/v2/part...</td>\n",
              "      <td>RO</td>\n",
              "      <td>57</td>\n",
              "      <td>https://www.camara.leg.br/internet/deputado/ba...</td>\n",
              "    </tr>\n",
              "    <tr>\n",
              "      <th>13117</th>\n",
              "      <td>2351332-7</td>\n",
              "      <td>https://dadosabertos.camara.leg.br/api/v2/vota...</td>\n",
              "      <td>2023-03-14 18:57:28</td>\n",
              "      <td>Sim</td>\n",
              "      <td>160575</td>\n",
              "      <td>https://dadosabertos.camara.leg.br/api/v2/depu...</td>\n",
              "      <td>Erika Kokay</td>\n",
              "      <td>PT</td>\n",
              "      <td>https://dadosabertos.camara.leg.br/api/v2/part...</td>\n",
              "      <td>DF</td>\n",
              "      <td>57</td>\n",
              "      <td>https://www.camara.leg.br/internet/deputado/ba...</td>\n",
              "    </tr>\n",
              "    <tr>\n",
              "      <th>13120</th>\n",
              "      <td>2351332-7</td>\n",
              "      <td>https://dadosabertos.camara.leg.br/api/v2/vota...</td>\n",
              "      <td>2023-03-14 18:57:45</td>\n",
              "      <td>Sim</td>\n",
              "      <td>74454</td>\n",
              "      <td>https://dadosabertos.camara.leg.br/api/v2/depu...</td>\n",
              "      <td>Eunício Oliveira</td>\n",
              "      <td>MDB</td>\n",
              "      <td>https://dadosabertos.camara.leg.br/api/v2/part...</td>\n",
              "      <td>CE</td>\n",
              "      <td>57</td>\n",
              "      <td>https://www.camara.leg.br/internet/deputado/ba...</td>\n",
              "    </tr>\n",
              "    <tr>\n",
              "      <th>13004</th>\n",
              "      <td>2351332-7</td>\n",
              "      <td>https://dadosabertos.camara.leg.br/api/v2/vota...</td>\n",
              "      <td>2023-03-14 18:57:55</td>\n",
              "      <td>Sim</td>\n",
              "      <td>204356</td>\n",
              "      <td>https://dadosabertos.camara.leg.br/api/v2/depu...</td>\n",
              "      <td>Amaro Neto</td>\n",
              "      <td>REPUBLICANOS</td>\n",
              "      <td>https://dadosabertos.camara.leg.br/api/v2/part...</td>\n",
              "      <td>ES</td>\n",
              "      <td>57</td>\n",
              "      <td>https://www.camara.leg.br/internet/deputado/ba...</td>\n",
              "    </tr>\n",
              "    <tr>\n",
              "      <th>13346</th>\n",
              "      <td>2351332-7</td>\n",
              "      <td>https://dadosabertos.camara.leg.br/api/v2/vota...</td>\n",
              "      <td>2023-03-14 18:58:04</td>\n",
              "      <td>Sim</td>\n",
              "      <td>160621</td>\n",
              "      <td>https://dadosabertos.camara.leg.br/api/v2/depu...</td>\n",
              "      <td>Sandro Alex</td>\n",
              "      <td>PSD</td>\n",
              "      <td>https://dadosabertos.camara.leg.br/api/v2/part...</td>\n",
              "      <td>PR</td>\n",
              "      <td>57</td>\n",
              "      <td>https://www.camara.leg.br/internet/deputado/ba...</td>\n",
              "    </tr>\n",
              "    <tr>\n",
              "      <th>...</th>\n",
              "      <td>...</td>\n",
              "      <td>...</td>\n",
              "      <td>...</td>\n",
              "      <td>...</td>\n",
              "      <td>...</td>\n",
              "      <td>...</td>\n",
              "      <td>...</td>\n",
              "      <td>...</td>\n",
              "      <td>...</td>\n",
              "      <td>...</td>\n",
              "      <td>...</td>\n",
              "      <td>...</td>\n",
              "    </tr>\n",
              "    <tr>\n",
              "      <th>25189</th>\n",
              "      <td>2369594-8</td>\n",
              "      <td>https://dadosabertos.camara.leg.br/api/v2/vota...</td>\n",
              "      <td>2023-06-20 18:29:48</td>\n",
              "      <td>Sim</td>\n",
              "      <td>220673</td>\n",
              "      <td>https://dadosabertos.camara.leg.br/api/v2/depu...</td>\n",
              "      <td>Delegado Caveira</td>\n",
              "      <td>PL</td>\n",
              "      <td>https://dadosabertos.camara.leg.br/api/v2/part...</td>\n",
              "      <td>PA</td>\n",
              "      <td>57</td>\n",
              "      <td>https://www.camara.leg.br/internet/deputado/ba...</td>\n",
              "    </tr>\n",
              "    <tr>\n",
              "      <th>25140</th>\n",
              "      <td>2369594-8</td>\n",
              "      <td>https://dadosabertos.camara.leg.br/api/v2/vota...</td>\n",
              "      <td>2023-06-20 18:30:04</td>\n",
              "      <td>Sim</td>\n",
              "      <td>160538</td>\n",
              "      <td>https://dadosabertos.camara.leg.br/api/v2/depu...</td>\n",
              "      <td>Bohn Gass</td>\n",
              "      <td>PT</td>\n",
              "      <td>https://dadosabertos.camara.leg.br/api/v2/part...</td>\n",
              "      <td>RS</td>\n",
              "      <td>57</td>\n",
              "      <td>https://www.camara.leg.br/internet/deputado/ba...</td>\n",
              "    </tr>\n",
              "    <tr>\n",
              "      <th>25265</th>\n",
              "      <td>2369594-8</td>\n",
              "      <td>https://dadosabertos.camara.leg.br/api/v2/vota...</td>\n",
              "      <td>2023-06-20 18:30:16</td>\n",
              "      <td>Sim</td>\n",
              "      <td>178873</td>\n",
              "      <td>https://dadosabertos.camara.leg.br/api/v2/depu...</td>\n",
              "      <td>Helder Salomão</td>\n",
              "      <td>PT</td>\n",
              "      <td>https://dadosabertos.camara.leg.br/api/v2/part...</td>\n",
              "      <td>ES</td>\n",
              "      <td>57</td>\n",
              "      <td>https://www.camara.leg.br/internet/deputado/ba...</td>\n",
              "    </tr>\n",
              "    <tr>\n",
              "      <th>25357</th>\n",
              "      <td>2369594-8</td>\n",
              "      <td>https://dadosabertos.camara.leg.br/api/v2/vota...</td>\n",
              "      <td>2023-06-20 18:30:22</td>\n",
              "      <td>Sim</td>\n",
              "      <td>220647</td>\n",
              "      <td>https://dadosabertos.camara.leg.br/api/v2/depu...</td>\n",
              "      <td>Mauricio Neves</td>\n",
              "      <td>PP</td>\n",
              "      <td>https://dadosabertos.camara.leg.br/api/v2/part...</td>\n",
              "      <td>SP</td>\n",
              "      <td>57</td>\n",
              "      <td>https://www.camara.leg.br/internet/deputado/ba...</td>\n",
              "    </tr>\n",
              "    <tr>\n",
              "      <th>25434</th>\n",
              "      <td>2369594-8</td>\n",
              "      <td>https://dadosabertos.camara.leg.br/api/v2/vota...</td>\n",
              "      <td>2023-06-20 18:30:32</td>\n",
              "      <td>Sim</td>\n",
              "      <td>220575</td>\n",
              "      <td>https://dadosabertos.camara.leg.br/api/v2/depu...</td>\n",
              "      <td>Sonize Barbosa</td>\n",
              "      <td>PL</td>\n",
              "      <td>https://dadosabertos.camara.leg.br/api/v2/part...</td>\n",
              "      <td>AP</td>\n",
              "      <td>57</td>\n",
              "      <td>https://www.camara.leg.br/internet/deputado/ba...</td>\n",
              "    </tr>\n",
              "  </tbody>\n",
              "</table>\n",
              "<p>27759 rows × 12 columns</p>\n",
              "</div>\n",
              "      <button class=\"colab-df-convert\" onclick=\"convertToInteractive('df-fc61eb67-b478-4a62-a8a6-d0dfa82f0196')\"\n",
              "              title=\"Convert this dataframe to an interactive table.\"\n",
              "              style=\"display:none;\">\n",
              "        \n",
              "  <svg xmlns=\"http://www.w3.org/2000/svg\" height=\"24px\"viewBox=\"0 0 24 24\"\n",
              "       width=\"24px\">\n",
              "    <path d=\"M0 0h24v24H0V0z\" fill=\"none\"/>\n",
              "    <path d=\"M18.56 5.44l.94 2.06.94-2.06 2.06-.94-2.06-.94-.94-2.06-.94 2.06-2.06.94zm-11 1L8.5 8.5l.94-2.06 2.06-.94-2.06-.94L8.5 2.5l-.94 2.06-2.06.94zm10 10l.94 2.06.94-2.06 2.06-.94-2.06-.94-.94-2.06-.94 2.06-2.06.94z\"/><path d=\"M17.41 7.96l-1.37-1.37c-.4-.4-.92-.59-1.43-.59-.52 0-1.04.2-1.43.59L10.3 9.45l-7.72 7.72c-.78.78-.78 2.05 0 2.83L4 21.41c.39.39.9.59 1.41.59.51 0 1.02-.2 1.41-.59l7.78-7.78 2.81-2.81c.8-.78.8-2.07 0-2.86zM5.41 20L4 18.59l7.72-7.72 1.47 1.35L5.41 20z\"/>\n",
              "  </svg>\n",
              "      </button>\n",
              "      \n",
              "  <style>\n",
              "    .colab-df-container {\n",
              "      display:flex;\n",
              "      flex-wrap:wrap;\n",
              "      gap: 12px;\n",
              "    }\n",
              "\n",
              "    .colab-df-convert {\n",
              "      background-color: #E8F0FE;\n",
              "      border: none;\n",
              "      border-radius: 50%;\n",
              "      cursor: pointer;\n",
              "      display: none;\n",
              "      fill: #1967D2;\n",
              "      height: 32px;\n",
              "      padding: 0 0 0 0;\n",
              "      width: 32px;\n",
              "    }\n",
              "\n",
              "    .colab-df-convert:hover {\n",
              "      background-color: #E2EBFA;\n",
              "      box-shadow: 0px 1px 2px rgba(60, 64, 67, 0.3), 0px 1px 3px 1px rgba(60, 64, 67, 0.15);\n",
              "      fill: #174EA6;\n",
              "    }\n",
              "\n",
              "    [theme=dark] .colab-df-convert {\n",
              "      background-color: #3B4455;\n",
              "      fill: #D2E3FC;\n",
              "    }\n",
              "\n",
              "    [theme=dark] .colab-df-convert:hover {\n",
              "      background-color: #434B5C;\n",
              "      box-shadow: 0px 1px 3px 1px rgba(0, 0, 0, 0.15);\n",
              "      filter: drop-shadow(0px 1px 2px rgba(0, 0, 0, 0.3));\n",
              "      fill: #FFFFFF;\n",
              "    }\n",
              "  </style>\n",
              "\n",
              "      <script>\n",
              "        const buttonEl =\n",
              "          document.querySelector('#df-fc61eb67-b478-4a62-a8a6-d0dfa82f0196 button.colab-df-convert');\n",
              "        buttonEl.style.display =\n",
              "          google.colab.kernel.accessAllowed ? 'block' : 'none';\n",
              "\n",
              "        async function convertToInteractive(key) {\n",
              "          const element = document.querySelector('#df-fc61eb67-b478-4a62-a8a6-d0dfa82f0196');\n",
              "          const dataTable =\n",
              "            await google.colab.kernel.invokeFunction('convertToInteractive',\n",
              "                                                     [key], {});\n",
              "          if (!dataTable) return;\n",
              "\n",
              "          const docLinkHtml = 'Like what you see? Visit the ' +\n",
              "            '<a target=\"_blank\" href=https://colab.research.google.com/notebooks/data_table.ipynb>data table notebook</a>'\n",
              "            + ' to learn more about interactive tables.';\n",
              "          element.innerHTML = '';\n",
              "          dataTable['output_type'] = 'display_data';\n",
              "          await google.colab.output.renderOutput(dataTable, element);\n",
              "          const docLink = document.createElement('div');\n",
              "          docLink.innerHTML = docLinkHtml;\n",
              "          element.appendChild(docLink);\n",
              "        }\n",
              "      </script>\n",
              "    </div>\n",
              "  </div>\n",
              "  "
            ]
          },
          "metadata": {},
          "execution_count": 17
        }
      ]
    },
    {
      "cell_type": "code",
      "metadata": {
        "id": "01fN-bLSJmWG"
      },
      "source": [
        "def get_total_expenses(deputy_id, start_date, end_date):\n",
        "    #expenses = []\n",
        "    total = 0.0\n",
        "    years = '&'.join(['ano={}'.format(year) for year in range(start_date.year, end_date.year+1)])\n",
        "    url = \"https://dadosabertos.camara.leg.br/api/v2/deputados/{}/despesas?{}&itens=100000&ordem=ASC&ordenarPor=ano\".format(deputy_id, years)\n",
        "    read_all = False\n",
        "    while not read_all:\n",
        "        read_all = True\n",
        "        page = requests.get(url).json()\n",
        "        if 'dados' not in page:\n",
        "            break\n",
        "        total += sum([e['valorDocumento'] for e in page['dados']])\n",
        "        #this_expenses = [{'tipo': e['tipoDespesa'], 'valor': e['valorDocumento']} for e in page['dados']]\n",
        "        #expenses.extend(this_expenses)\n",
        "        for link in page['links']:\n",
        "            if link['rel'] == 'next':\n",
        "                url = link['href']\n",
        "                read_all = False\n",
        "                break\n",
        "    return total\n",
        "\n",
        "def get_deputy_info(deputy_id):\n",
        "    url = 'https://dadosabertos.camara.leg.br/api/v2/deputados/{}'.format(deputy_id)\n",
        "    data = requests.get(url).json()['dados']\n",
        "    ultimoStatus = data['ultimoStatus']\n",
        "    today = date.today()\n",
        "    nascimento = pd.to_datetime(data['dataNascimento'])\n",
        "    idade = today.year - nascimento.year - ((today.month, today.day) < (nascimento.month, nascimento.day))\n",
        "    return {'sexo': data['sexo'],\n",
        "            'escolaridade': data['escolaridade'],\n",
        "            'idade': idade,\n",
        "            'e-mail': ultimoStatus['email'],\n",
        "            'situação': ultimoStatus['situacao'],\n",
        "            'cidade natal': data['municipioNascimento']}"
      ],
      "execution_count": 5,
      "outputs": []
    },
    {
      "cell_type": "code",
      "metadata": {
        "colab": {
          "base_uri": "https://localhost:8080/"
        },
        "id": "B-U3PqAMy5hy",
        "outputId": "c2af10a3-be38-4a18-8de7-9f9400baf510"
      },
      "source": [
        "#%% Take care of different names for same deputy\n",
        "for group, df_group in votes.groupby('deputado_id'):\n",
        "    votes['deputado_nome'].loc[votes['deputado_id'] == group] = sorted(df_group['deputado_nome'].unique())[0]\n",
        "\n",
        "#%% Partidos que mudaram de nome\n",
        "votes['deputado_siglaPartido'].replace('PMDB', 'MDB', inplace=True)\n",
        "votes['deputado_siglaPartido'].replace('PRB', 'REPUBLICANOS', inplace=True)\n",
        "votes['deputado_siglaPartido'].replace('PR', 'PL', inplace=True)\n",
        "votes['deputado_siglaPartido'].replace('PATRIOTA', 'PATRI', inplace=True)\n",
        "votes['deputado_siglaPartido'].replace('PPS', 'CIDADANIA', inplace=True)\n",
        "\n",
        "# Logo dos partidos\n",
        "party_logo = {}\n",
        "for p in votes['deputado_uriPartido'].unique():\n",
        "    if not pd.isna(p):\n",
        "        dados = requests.get(p).json()['dados']\n",
        "        if dados['sigla'] == 'MDB':\n",
        "            party_logo[p] = 'https://logodownload.org/wp-content/uploads/2018/04/mdb-logo-partido.png'\n",
        "        elif dados['sigla'] == 'SOLIDARIEDADE':\n",
        "            party_logo[p] = 'https://upload.wikimedia.org/wikipedia/commons/f/fe/Logomarca_do_Partido_Solidariedade.png'\n",
        "        elif dados['sigla'] == 'PATRI':\n",
        "            party_logo[p] = 'https://upload.wikimedia.org/wikipedia/en/8/8e/Patriota_logo.png'\n",
        "        elif dados['sigla'] == 'REPUBLICANOS':\n",
        "            party_logo[p] = 'https://upload.wikimedia.org/wikipedia/en/0/0d/Republicanos_logo.png'\n",
        "        elif dados['sigla'] == 'PL':\n",
        "            party_logo[p] = 'https://upload.wikimedia.org/wikipedia/commons/0/03/PL-logo.jpg'\n",
        "        elif dados['sigla'] == 'CIDADANIA':\n",
        "            party_logo[p] = 'https://upload.wikimedia.org/wikipedia/commons/d/d7/Logo_do_Cidadania_23.png'\n",
        "        elif dados['sigla'] == 'NOVO':\n",
        "            party_logo[p] = 'https://upload.wikimedia.org/wikipedia/commons/b/b5/Novo30_AOC.png'\n",
        "        elif dados['sigla'] == 'UNIÃO':\n",
        "            party_logo[p] = 'https://upload.wikimedia.org/wikipedia/commons/7/73/Uni%C3%A3o_Brasil_logo.svg'\n",
        "        else:\n",
        "            party_logo[p] = dados['urlLogo']\n",
        "\n",
        "#all_data['deputado_siglaPartido'].replace('PPL', np.nan, inplace=True) # PPL foi incorporado\n",
        "#all_data['deputado_siglaPartido'].replace('PRP', np.nan, inplace=True) # PRP foi incorporado\n",
        "#all_data['deputado_siglaPartido'].replace('PHS', np.nan, inplace=True) # PHS foi incorporado\n",
        "# all_data = pd.merge(all_data, motions_themes, on=\"idVotacao\", how=\"inner\")\n",
        "#all_data['deputado_siglaPartido'].fillna('S.PART.', inplace=True)\n",
        "# all_data.groupby('idVotacao')['voto'].count()\n",
        "\n",
        "#all_data.to_csv('votos_{}_to_{}.csv'.format(start_date, end_date), index=False)"
      ],
      "execution_count": 18,
      "outputs": [
        {
          "output_type": "stream",
          "name": "stderr",
          "text": [
            "<ipython-input-18-61a6037aec91>:3: SettingWithCopyWarning: \n",
            "A value is trying to be set on a copy of a slice from a DataFrame\n",
            "\n",
            "See the caveats in the documentation: https://pandas.pydata.org/pandas-docs/stable/user_guide/indexing.html#returning-a-view-versus-a-copy\n",
            "  votes['deputado_nome'].loc[votes['deputado_id'] == group] = sorted(df_group['deputado_nome'].unique())[0]\n"
          ]
        }
      ]
    },
    {
      "cell_type": "markdown",
      "metadata": {
        "id": "SUsFl2dStN5A"
      },
      "source": [
        "## Graph Construction"
      ]
    },
    {
      "cell_type": "code",
      "metadata": {
        "id": "RPP0Zesb_lqN"
      },
      "source": [
        "def generalized_similarity(m, min_eps=0.001, max_iter=1000):\n",
        "    \"\"\" Balázs Kovács, \"A generalized model of relational similarity,\" Social Networks, 32(3), July 2010, pp. 197–211\n",
        "        Based on: https://github.com/dzinoviev/generalizedsimilarity\n",
        "    \"\"\"\n",
        "    arcs0 = m - m.mean(axis=1)[:, np.newaxis]\n",
        "    arcs1 = m.T - m.mean(axis=0)[:, np.newaxis]\n",
        "\n",
        "    eps = min_eps + 1\n",
        "    N = np.eye(m.shape[1])\n",
        "\n",
        "    iters = 0\n",
        "    while (eps > min_eps and iters < max_iter) or np.isnan(N).any():\n",
        "        M = arcs0.dot(N).dot(arcs0.T)\n",
        "        m = np.sqrt(M.diagonal())\n",
        "        M = ((M / (m+1e-8)).T / (m+1e-8)).T\n",
        "\n",
        "        Np = arcs1.dot(M).dot(arcs1.T)\n",
        "        n = np.sqrt(Np.diagonal())\n",
        "        Np = ((Np / (n+1e-8)).T / (n+1e-8)).T\n",
        "        eps = np.abs(Np - N).max()\n",
        "        N = Np\n",
        "\n",
        "        iters += 1\n",
        "    return M\n",
        "\n",
        "def pearson_correlation(m):\n",
        "    arcs0 = m - m.mean(axis=1)[:, np.newaxis]\n",
        "    arcs1 = m.T - m.mean(axis=0)[:, np.newaxis]\n",
        "    M = arcs0.dot(arcs0.T)\n",
        "    m = np.sqrt(M.diagonal())\n",
        "    M = ((M / m).T / m).T\n",
        "    return M\n",
        "\n",
        "def filter_edges(edges_list, num_nodes, threshold=None, density=0.1):\n",
        "    edges, weights = [], []\n",
        "    if threshold is not None:\n",
        "        for e in edges_list:\n",
        "            if e[1] >= threshold:\n",
        "                edges.append(e[0])\n",
        "                weights.append(e[1])\n",
        "    else:\n",
        "        count = int(num_nodes * (num_nodes - 1) * density / 2)\n",
        "        edges_list.sort(reverse=True, key=lambda e: e[1])\n",
        "        edges_list = edges_list[:count]\n",
        "        edges = [e[0] for e in edges_list]\n",
        "        weights = [e[1] for e in edges_list]\n",
        "    return edges, weights"
      ],
      "execution_count": 19,
      "outputs": []
    },
    {
      "cell_type": "code",
      "metadata": {
        "id": "XmGyVWA5C-2g"
      },
      "source": [
        "# Vote Matrix\n",
        "reps = votes['deputado_nome'].unique()\n",
        "rep_to_ind = {reps[i]: i for i in range(len(reps))}\n",
        "motions = votes['idVotacao'].unique()\n",
        "motion_to_ind = {motions[i]: i for i in range(len(motions))}\n",
        "parties = [p for p in votes['deputado_siglaPartido'].unique() if pd.notna(p)]\n",
        "\n",
        "vote_matrix = np.zeros((len(reps), len(motions)))\n",
        "df_grouped = votes.groupby(['idVotacao', 'deputado_nome'])\n",
        "for group, df_group in df_grouped:\n",
        "    voto = df_group['voto'].values[0]\n",
        "    i = rep_to_ind[group[1]]\n",
        "    j = motion_to_ind[group[0]]\n",
        "    if voto == \"Sim\":\n",
        "        vote_matrix[i,j] = 1\n",
        "    elif voto == \"Não\":\n",
        "        vote_matrix[i,j] = -1"
      ],
      "execution_count": 20,
      "outputs": []
    },
    {
      "cell_type": "code",
      "metadata": {
        "id": "A5jpQllgJmWM"
      },
      "source": [
        "# Edges Generation\n",
        "M = generalized_similarity(vote_matrix)\n",
        "edges = []\n",
        "for dep1, dep2 in combinations(range(len(reps)), 2):\n",
        "    if M[dep1,dep2] > 0:\n",
        "        edges.append(((dep1,dep2), M[dep1,dep2]))"
      ],
      "execution_count": 21,
      "outputs": []
    },
    {
      "cell_type": "code",
      "metadata": {
        "id": "wFhSJ28tJmWM"
      },
      "source": [
        "# i-graph\n",
        "graph = Graph(graph_attrs={'name': 'Câmara dos Deputados'}, directed=False)\n",
        "graph.add_vertices(reps)\n",
        "filer_edges, weights = filter_edges(edges, num_nodes=graph.vcount(), threshold=None, density=0.2) # threshold 0.9998\n",
        "graph.add_edges(filer_edges)\n",
        "graph.es['weight'] = weights\n",
        "graph.es['similarity'] = weights\n",
        "maxw = max(graph.es['weight'])\n",
        "minw = min(graph.es['weight'])\n",
        "graph.es['weight'] = [(e - minw) / (maxw - minw) for e in graph.es['weight']] # Normalize weights to [0,1]"
      ],
      "execution_count": 22,
      "outputs": []
    },
    {
      "cell_type": "code",
      "metadata": {
        "colab": {
          "base_uri": "https://localhost:8080/",
          "height": 142
        },
        "id": "nw2hXZUlA1VS",
        "outputId": "deee0633-faa5-41e9-bc73-a68fd76aa581"
      },
      "source": [
        "# Community Detection\n",
        "graph.vs['community'] = graph.community_leiden(weights='weight', objective_function='modularity', resolution_parameter=1, n_iterations=100).membership\n",
        "graph.vs['community_leiden'] = [str(c) for c in graph.vs['community']]\n",
        "print(graph.vs['community'])\n",
        "print(graph.modularity(graph.vs['community'], weights='weight'))\n",
        "\"\"\" graph.delete_edges()\n",
        "edges, weights = filter_edges(edges, num_nodes=graph.vcount(), threshold=0.0, density=0.1)\n",
        "graph.add_edges(edges)\n",
        "graph.es['weight'] = weights\n",
        "graph.es['similarity'] = weights \"\"\""
      ],
      "execution_count": 23,
      "outputs": [
        {
          "output_type": "stream",
          "name": "stderr",
          "text": [
            "<ipython-input-23-9160391992dc>:2: DeprecationWarning: resolution_parameter keyword argument is deprecated, use resolution=... instead\n",
            "  graph.vs['community'] = graph.community_leiden(weights='weight', objective_function='modularity', resolution_parameter=1, n_iterations=100).membership\n"
          ]
        },
        {
          "output_type": "stream",
          "name": "stdout",
          "text": [
            "[0, 1, 0, 2, 3, 4, 5, 0, 1, 6, 0, 1, 3, 1, 3, 0, 0, 6, 7, 6, 6, 6, 1, 6, 3, 6, 6, 0, 3, 6, 8, 1, 6, 0, 6, 1, 6, 1, 6, 6, 3, 0, 6, 1, 0, 7, 1, 1, 0, 1, 6, 0, 1, 1, 1, 0, 2, 1, 0, 0, 1, 0, 6, 6, 1, 3, 6, 9, 10, 0, 1, 6, 1, 6, 0, 0, 6, 1, 0, 0, 1, 0, 1, 0, 1, 1, 1, 1, 3, 6, 1, 1, 8, 0, 1, 1, 6, 6, 1, 1, 10, 1, 0, 6, 1, 1, 1, 11, 1, 6, 0, 8, 1, 6, 0, 0, 6, 0, 6, 8, 1, 1, 0, 6, 0, 1, 1, 0, 1, 1, 0, 1, 1, 0, 1, 0, 6, 1, 1, 1, 6, 6, 6, 6, 6, 1, 1, 1, 3, 0, 6, 0, 6, 1, 1, 1, 6, 6, 1, 1, 0, 0, 1, 6, 0, 1, 6, 6, 6, 12, 0, 1, 1, 8, 1, 0, 1, 1, 1, 6, 1, 6, 1, 3, 6, 6, 1, 1, 8, 0, 8, 6, 9, 8, 1, 1, 1, 13, 1, 5, 14, 1, 0, 9, 5, 0, 0, 8, 6, 6, 1, 0, 0, 6, 6, 6, 1, 3, 6, 1, 6, 0, 6, 8, 1, 6, 1, 0, 1, 1, 1, 1, 1, 0, 15, 1, 1, 0, 16, 6, 0, 6, 6, 1, 1, 6, 6, 1, 1, 8, 6, 0, 6, 1, 1, 0, 6, 10, 0, 6, 6, 6, 17, 18, 1, 0, 6, 1, 1, 19, 0, 6, 6, 1, 0, 6, 6, 1, 1, 0, 0, 6, 6, 1, 1, 0, 6, 1, 8, 6, 10, 1, 8, 6, 1, 6, 0, 6, 1, 0, 1, 0, 1, 1, 0, 20, 3, 1, 1, 3, 6, 0, 1, 6, 6, 6, 6, 21, 0, 6, 6, 6, 1, 0, 5, 6, 6, 6, 1, 0, 6, 0, 22, 23, 1, 24, 3, 6, 3, 0, 6, 1, 1, 6, 1, 25, 6, 6, 1, 1, 0, 0, 1, 0, 0, 6, 8, 6, 1, 3, 0, 0, 6, 0, 6, 0, 6, 0, 1, 9, 26, 0, 8, 1, 1, 8, 1, 0, 6, 1, 1, 16, 6, 1, 6, 6, 0, 0, 0, 25, 0, 0, 1, 27, 1, 1, 8, 0, 0, 6, 6, 6, 1, 0, 1, 1, 6, 1, 6, 6, 8, 0, 1, 6, 8, 1, 0, 0, 0, 8, 6, 0, 0, 0, 28, 10, 1, 0, 1, 6, 1, 0, 3, 0, 6, 29, 0, 0, 1, 0, 0, 3, 0, 0, 3, 0, 3, 0, 1, 1, 6, 0, 0, 0, 1, 6, 4, 1, 25, 0, 8, 30, 8, 6, 1, 0, 1, 0, 1, 0, 8, 28, 0, 5, 0, 1, 8, 8, 6, 8, 16, 0, 31, 0, 8, 8, 1, 0, 8, 6, 8, 0, 0, 6, 0, 1, 0, 8, 6, 1, 6, 0, 0, 8, 0, 0, 0, 32, 1, 3, 6, 1, 3, 1, 1, 1, 0, 0, 0, 33, 1, 1, 34]\n",
            "0.5246770561419635\n"
          ]
        },
        {
          "output_type": "execute_result",
          "data": {
            "text/plain": [
              "\" graph.delete_edges()\\nedges, weights = filter_edges(edges, num_nodes=graph.vcount(), threshold=0.0, density=0.1)\\ngraph.add_edges(edges)\\ngraph.es['weight'] = weights\\ngraph.es['similarity'] = weights \""
            ],
            "application/vnd.google.colaboratory.intrinsic+json": {
              "type": "string"
            }
          },
          "metadata": {},
          "execution_count": 23
        }
      ]
    },
    {
      "cell_type": "code",
      "metadata": {
        "id": "zdHw9Ay3JmWN",
        "outputId": "9000681c-cb84-4d40-ef49-da052d41b6bd",
        "colab": {
          "base_uri": "https://localhost:8080/"
        }
      },
      "source": [
        "# Add info to nodes\n",
        "info = [votes[votes['deputado_nome']==dep] for dep in graph.vs['name']]\n",
        "graph.vs['Foto'] = [x['deputado_urlFoto'].values[-1] for x in info]\n",
        "graph.vs['UF'] = [x['deputado_siglaUf'].values[-1] for x in info]\n",
        "graph.vs['Partido'] = [x['deputado_siglaPartido'].values[-1] for x in info]\n",
        "graph.vs['URL'] =  [x['deputado_uri'].values[-1] for x in info]\n",
        "graph.vs['Partido URI'] =  [x['deputado_uriPartido'].values[-1] for x in info]\n",
        "# graph.vs['Total Despesas (reais)'] = [get_total_expenses(x['deputado_id'].values[-1], start_date, end_date) for x in info]\n",
        "for i, x in enumerate(info):\n",
        "    for k, v in get_deputy_info(x['deputado_id'].values[-1]).items():\n",
        "        if i == 0:\n",
        "            graph.vs[k] = ['' for _ in range(len(graph.vs))]\n",
        "        graph.vs[i][k] = v\n",
        "\n",
        "graph.vs['betweenness'] = graph.betweenness()\n",
        "graph.vs['closeness'] = graph.closeness()\n",
        "\n",
        "summary(graph)"
      ],
      "execution_count": 24,
      "outputs": [
        {
          "output_type": "stream",
          "name": "stdout",
          "text": [
            "IGRAPH UNW- 523 27300 -- Câmara dos Deputados\n",
            "+ attr: name (g), Foto (v), Partido (v), Partido URI (v), UF (v), URL (v), betweenness (v), cidade natal (v), closeness (v), community (v), community_leiden (v), e-mail (v), escolaridade (v), idade (v), name (v), sexo (v), situação (v), similarity (e), weight (e)\n"
          ]
        }
      ]
    },
    {
      "cell_type": "markdown",
      "metadata": {
        "id": "2uKJ9H2zP7tu"
      },
      "source": [
        "## Visualization"
      ]
    },
    {
      "cell_type": "code",
      "metadata": {
        "colab": {
          "base_uri": "https://localhost:8080/",
          "height": 578
        },
        "id": "07djBReHDUUF",
        "outputId": "5f143332-f6f5-46ef-a700-4e619633dc0a"
      },
      "source": [
        "g = graphistry.bind(source='src', destination='dst',\n",
        "                    point_label='name',\n",
        "                    edge_weight='similarity',\n",
        "                    edge_label='similarity',\n",
        "                    edge_size='similarity',\n",
        "                    point_color='community',\n",
        "                    point_size='name')\n",
        "(e_df, n_df) = g.igraph2pandas(graph)\n",
        "g = g.nodes(n_df).edges(e_df)\n",
        "g = g.nodes(lambda g: g._nodes.assign(community=g._nodes['community'].astype('int32')))\n",
        "g = g.addStyle(bg={'color': 'white'}, page={'title': 'Câmara dos Deputados'})\n",
        "g = g.encode_point_icon('Partido URI', categorical_mapping=party_logo, shape='circle')\n",
        "g = g.settings(url_params={\n",
        "    'pageTitle': 'Câmara dos Deputados',\n",
        "    'play': 2000,\n",
        "    'menu': True,\n",
        "    'info': True,\n",
        "    'strongGravity': True,\n",
        "    'showArrows': False,\n",
        "    'pointSize': 5.0,\n",
        "    'pointsOfInterestMax': 100,\n",
        "    'edgeInfluence': 1.0,\n",
        "    'showLabels': True, 'showLabelOnHover': True,\n",
        "    'showPointsOfInterest': True, 'showPointsOfInterestLabel': True, 'showLabelPropertiesOnHover': True})\n",
        "g.plot(render=True)"
      ],
      "execution_count": 25,
      "outputs": [
        {
          "output_type": "stream",
          "name": "stderr",
          "text": [
            "<ipython-input-25-5367759c4f17>:8: DeprecationWarning: igraph2pandas deprecated; switch to from_igraph\n",
            "  (e_df, n_df) = g.igraph2pandas(graph)\n"
          ]
        },
        {
          "output_type": "execute_result",
          "data": {
            "text/plain": [
              "<IPython.core.display.HTML object>"
            ],
            "text/html": [
              "\n",
              "            <iframe id=\"218a7737-6ee0-42f7-aa79-84f90d2a2ea9\" src=\"https://hub.graphistry.com/graph/graph.html?dataset=ef82c00385524d02a5099eaf6bebd0ee&type=arrow&viztoken=4466d55c-dfa7-416c-b416-a11d2585185e&usertag=4004b232-pygraphistry-0.29.1&splashAfter=1687960207&info=True&pageTitle=Câmara dos Deputados&play=2000&menu=True&strongGravity=True&showArrows=False&pointSize=5.0&pointsOfInterestMax=100&edgeInfluence=1.0&showLabels=True&showLabelOnHover=True&showPointsOfInterest=True&showPointsOfInterestLabel=True&showLabelPropertiesOnHover=True\"\n",
              "                    allowfullscreen=\"true\" webkitallowfullscreen=\"true\" mozallowfullscreen=\"true\"\n",
              "                    oallowfullscreen=\"true\" msallowfullscreen=\"true\"\n",
              "                    style=\"width:100%; height:500px; border: 1px solid #DDD; overflow: hidden\"\n",
              "                    \n",
              "            >\n",
              "            </iframe>\n",
              "        \n",
              "            <script>\n",
              "                try {\n",
              "                  $(\"#218a7737-6ee0-42f7-aa79-84f90d2a2ea9\").bind('mousewheel', function(e) { e.preventDefault(); });\n",
              "                } catch (e) { console.error('exn catching scroll', e); }\n",
              "            </script>\n",
              "        "
            ]
          },
          "metadata": {},
          "execution_count": 25
        }
      ]
    }
  ]
}