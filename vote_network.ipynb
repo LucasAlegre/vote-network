{
  "cells": [
    {
      "cell_type": "markdown",
      "metadata": {
        "colab_type": "text",
        "id": "view-in-github"
      },
      "source": [
        "<a href=\"https://colab.research.google.com/github/LucasAlegre/vote-network/blob/master/vote_network.ipynb\" target=\"_parent\"><img src=\"https://colab.research.google.com/assets/colab-badge.svg\" alt=\"Open In Colab\"/></a>"
      ]
    },
    {
      "cell_type": "markdown",
      "metadata": {
        "id": "M-Zp1NYesw43"
      },
      "source": [
        "## Install and import libraries"
      ]
    },
    {
      "cell_type": "code",
      "execution_count": 1,
      "metadata": {
        "id": "hhdctX4X1U28"
      },
      "outputs": [
        {
          "name": "stdout",
          "output_type": "stream",
          "text": [
            "Requirement already satisfied: graphistry in /home/lucas/.local/lib/python3.9/site-packages (0.20.2)\n",
            "Requirement already satisfied: pandas>=0.17.0 in /home/lucas/miniconda3/envs/PhD/lib/python3.9/site-packages (from graphistry) (1.3.4)\n",
            "Requirement already satisfied: requests in /home/lucas/miniconda3/envs/PhD/lib/python3.9/site-packages (from graphistry) (2.26.0)\n",
            "Requirement already satisfied: numpy in /home/lucas/miniconda3/envs/PhD/lib/python3.9/site-packages (from graphistry) (1.21.3)\n",
            "Requirement already satisfied: pyarrow>=0.15.0 in /home/lucas/.local/lib/python3.9/site-packages (from graphistry) (6.0.0)\n",
            "Requirement already satisfied: protobuf>=2.6.0 in /home/lucas/miniconda3/envs/PhD/lib/python3.9/site-packages (from graphistry) (3.19.0)\n",
            "Requirement already satisfied: python-dateutil>=2.7.3 in /home/lucas/miniconda3/envs/PhD/lib/python3.9/site-packages (from pandas>=0.17.0->graphistry) (2.8.2)\n",
            "Requirement already satisfied: pytz>=2017.3 in /home/lucas/miniconda3/envs/PhD/lib/python3.9/site-packages (from pandas>=0.17.0->graphistry) (2021.3)\n",
            "Requirement already satisfied: six>=1.5 in /home/lucas/miniconda3/envs/PhD/lib/python3.9/site-packages (from python-dateutil>=2.7.3->pandas>=0.17.0->graphistry) (1.16.0)\n",
            "Requirement already satisfied: idna<4,>=2.5 in /home/lucas/miniconda3/envs/PhD/lib/python3.9/site-packages (from requests->graphistry) (3.3)\n",
            "Requirement already satisfied: certifi>=2017.4.17 in /home/lucas/miniconda3/envs/PhD/lib/python3.9/site-packages (from requests->graphistry) (2021.10.8)\n",
            "Requirement already satisfied: charset-normalizer~=2.0.0 in /home/lucas/miniconda3/envs/PhD/lib/python3.9/site-packages (from requests->graphistry) (2.0.7)\n",
            "Requirement already satisfied: urllib3<1.27,>=1.21.1 in /home/lucas/miniconda3/envs/PhD/lib/python3.9/site-packages (from requests->graphistry) (1.26.7)\n",
            "Requirement already satisfied: python-igraph in /home/lucas/miniconda3/envs/PhD/lib/python3.9/site-packages (0.9.8)\n",
            "Requirement already satisfied: igraph==0.9.8 in /home/lucas/miniconda3/envs/PhD/lib/python3.9/site-packages (from python-igraph) (0.9.8)\n",
            "Requirement already satisfied: texttable>=1.6.2 in /home/lucas/miniconda3/envs/PhD/lib/python3.9/site-packages (from igraph==0.9.8->python-igraph) (1.6.4)\n"
          ]
        }
      ],
      "source": [
        "! pip install --user graphistry\n",
        "! pip install python-igraph"
      ]
    },
    {
      "cell_type": "code",
      "execution_count": 3,
      "metadata": {
        "id": "-qxJmQMx1Y0J"
      },
      "outputs": [],
      "source": [
        "import graphistry\n",
        "import pandas as pd\n",
        "import urllib.request\n",
        "import requests\n",
        "from datetime import date\n",
        "import numpy as np\n",
        "from igraph import Graph, summary\n",
        "from itertools import combinations\n",
        "import os\n",
        "# Init graphistry\n",
        "graphistry.register(api=3, protocol=\"https\", server=\"hub.graphistry.com\", username=\"LucasAlegre\", password=\"\")"
      ]
    },
    {
      "cell_type": "markdown",
      "metadata": {
        "id": "Vu_A80wptFFY"
      },
      "source": [
        "## Data Retrieval and Processing"
      ]
    },
    {
      "cell_type": "code",
      "execution_count": 4,
      "metadata": {
        "id": "L-guPMyGt2hz"
      },
      "outputs": [],
      "source": [
        "start_date = '2019-01-31' #@param {type:\"date\"}\n",
        "end_date = '2021-11-08' #@param {type:\"date\"}\n",
        "start_date = pd.to_datetime(start_date)\n",
        "end_date = pd.to_datetime(end_date)"
      ]
    },
    {
      "cell_type": "code",
      "execution_count": 5,
      "metadata": {
        "colab": {
          "base_uri": "https://localhost:8080/",
          "height": 609
        },
        "id": "bko23ypVtL3n",
        "outputId": "ee4aeed3-d623-4641-bbaa-261ab7f9cded"
      },
      "outputs": [
        {
          "data": {
            "text/html": [
              "<div>\n",
              "<style scoped>\n",
              "    .dataframe tbody tr th:only-of-type {\n",
              "        vertical-align: middle;\n",
              "    }\n",
              "\n",
              "    .dataframe tbody tr th {\n",
              "        vertical-align: top;\n",
              "    }\n",
              "\n",
              "    .dataframe thead th {\n",
              "        text-align: right;\n",
              "    }\n",
              "</style>\n",
              "<table border=\"1\" class=\"dataframe\">\n",
              "  <thead>\n",
              "    <tr style=\"text-align: right;\">\n",
              "      <th></th>\n",
              "      <th>idVotacao</th>\n",
              "      <th>uriVotacao</th>\n",
              "      <th>dataHoraVoto</th>\n",
              "      <th>voto</th>\n",
              "      <th>deputado_id</th>\n",
              "      <th>deputado_uri</th>\n",
              "      <th>deputado_nome</th>\n",
              "      <th>deputado_siglaPartido</th>\n",
              "      <th>deputado_uriPartido</th>\n",
              "      <th>deputado_siglaUf</th>\n",
              "      <th>deputado_idLegislatura</th>\n",
              "      <th>deputado_urlFoto</th>\n",
              "    </tr>\n",
              "  </thead>\n",
              "  <tbody>\n",
              "    <tr>\n",
              "      <th>25046</th>\n",
              "      <td>2179189-45</td>\n",
              "      <td>https://dadosabertos.camara.leg.br/api/v2/vota...</td>\n",
              "      <td>2019-02-12 16:09:52</td>\n",
              "      <td>Obstrução</td>\n",
              "      <td>160592</td>\n",
              "      <td>https://dadosabertos.camara.leg.br/api/v2/depu...</td>\n",
              "      <td>Zeca Dirceu</td>\n",
              "      <td>PT</td>\n",
              "      <td>https://dadosabertos.camara.leg.br/api/v2/part...</td>\n",
              "      <td>PR</td>\n",
              "      <td>56.0</td>\n",
              "      <td>http://www.camara.gov.br/internet/deputado/ban...</td>\n",
              "    </tr>\n",
              "    <tr>\n",
              "      <th>24899</th>\n",
              "      <td>2179189-45</td>\n",
              "      <td>https://dadosabertos.camara.leg.br/api/v2/vota...</td>\n",
              "      <td>2019-02-12 16:10:00</td>\n",
              "      <td>Não</td>\n",
              "      <td>160674</td>\n",
              "      <td>https://dadosabertos.camara.leg.br/api/v2/depu...</td>\n",
              "      <td>Hugo Motta</td>\n",
              "      <td>PRB</td>\n",
              "      <td>https://dadosabertos.camara.leg.br/api/v2/part...</td>\n",
              "      <td>PB</td>\n",
              "      <td>56.0</td>\n",
              "      <td>http://www.camara.gov.br/internet/deputado/ban...</td>\n",
              "    </tr>\n",
              "    <tr>\n",
              "      <th>24981</th>\n",
              "      <td>2179189-45</td>\n",
              "      <td>https://dadosabertos.camara.leg.br/api/v2/vota...</td>\n",
              "      <td>2019-02-12 16:10:02</td>\n",
              "      <td>Não</td>\n",
              "      <td>194260</td>\n",
              "      <td>https://dadosabertos.camara.leg.br/api/v2/depu...</td>\n",
              "      <td>Nivaldo Albuquerque</td>\n",
              "      <td>PTB</td>\n",
              "      <td>https://dadosabertos.camara.leg.br/api/v2/part...</td>\n",
              "      <td>AL</td>\n",
              "      <td>56.0</td>\n",
              "      <td>http://www.camara.gov.br/internet/deputado/ban...</td>\n",
              "    </tr>\n",
              "    <tr>\n",
              "      <th>24848</th>\n",
              "      <td>2179189-45</td>\n",
              "      <td>https://dadosabertos.camara.leg.br/api/v2/vota...</td>\n",
              "      <td>2019-02-12 16:10:05</td>\n",
              "      <td>Não</td>\n",
              "      <td>141421</td>\n",
              "      <td>https://dadosabertos.camara.leg.br/api/v2/depu...</td>\n",
              "      <td>Eduardo da Fonte</td>\n",
              "      <td>PP</td>\n",
              "      <td>https://dadosabertos.camara.leg.br/api/v2/part...</td>\n",
              "      <td>PE</td>\n",
              "      <td>56.0</td>\n",
              "      <td>http://www.camara.gov.br/internet/deputado/ban...</td>\n",
              "    </tr>\n",
              "    <tr>\n",
              "      <th>24883</th>\n",
              "      <td>2179189-45</td>\n",
              "      <td>https://dadosabertos.camara.leg.br/api/v2/vota...</td>\n",
              "      <td>2019-02-12 16:10:09</td>\n",
              "      <td>Não</td>\n",
              "      <td>74270</td>\n",
              "      <td>https://dadosabertos.camara.leg.br/api/v2/depu...</td>\n",
              "      <td>Gilberto Nascimento</td>\n",
              "      <td>PSC</td>\n",
              "      <td>https://dadosabertos.camara.leg.br/api/v2/part...</td>\n",
              "      <td>SP</td>\n",
              "      <td>56.0</td>\n",
              "      <td>http://www.camara.gov.br/internet/deputado/ban...</td>\n",
              "    </tr>\n",
              "    <tr>\n",
              "      <th>...</th>\n",
              "      <td>...</td>\n",
              "      <td>...</td>\n",
              "      <td>...</td>\n",
              "      <td>...</td>\n",
              "      <td>...</td>\n",
              "      <td>...</td>\n",
              "      <td>...</td>\n",
              "      <td>...</td>\n",
              "      <td>...</td>\n",
              "      <td>...</td>\n",
              "      <td>...</td>\n",
              "      <td>...</td>\n",
              "    </tr>\n",
              "    <tr>\n",
              "      <th>254074</th>\n",
              "      <td>2305021-8</td>\n",
              "      <td>https://dadosabertos.camara.leg.br/api/v2/vota...</td>\n",
              "      <td>2021-11-04 14:09:51</td>\n",
              "      <td>Sim</td>\n",
              "      <td>92102</td>\n",
              "      <td>https://dadosabertos.camara.leg.br/api/v2/depu...</td>\n",
              "      <td>Leur Lomanto Júnior</td>\n",
              "      <td>DEM</td>\n",
              "      <td>https://dadosabertos.camara.leg.br/api/v2/part...</td>\n",
              "      <td>BA</td>\n",
              "      <td>56.0</td>\n",
              "      <td>http://www.camara.gov.br/internet/deputado/ban...</td>\n",
              "    </tr>\n",
              "    <tr>\n",
              "      <th>253932</th>\n",
              "      <td>2305021-8</td>\n",
              "      <td>https://dadosabertos.camara.leg.br/api/v2/vota...</td>\n",
              "      <td>2021-11-04 14:09:58</td>\n",
              "      <td>Sim</td>\n",
              "      <td>204488</td>\n",
              "      <td>https://dadosabertos.camara.leg.br/api/v2/depu...</td>\n",
              "      <td>Célio Studart</td>\n",
              "      <td>PV</td>\n",
              "      <td>https://dadosabertos.camara.leg.br/api/v2/part...</td>\n",
              "      <td>CE</td>\n",
              "      <td>56.0</td>\n",
              "      <td>http://www.camara.gov.br/internet/deputado/ban...</td>\n",
              "    </tr>\n",
              "    <tr>\n",
              "      <th>254100</th>\n",
              "      <td>2305021-8</td>\n",
              "      <td>https://dadosabertos.camara.leg.br/api/v2/vota...</td>\n",
              "      <td>2021-11-04 14:10:16</td>\n",
              "      <td>Sim</td>\n",
              "      <td>150418</td>\n",
              "      <td>https://dadosabertos.camara.leg.br/api/v2/depu...</td>\n",
              "      <td>Márcio Marinho</td>\n",
              "      <td>REPUBLICANOS</td>\n",
              "      <td>https://dadosabertos.camara.leg.br/api/v2/part...</td>\n",
              "      <td>BA</td>\n",
              "      <td>56.0</td>\n",
              "      <td>http://www.camara.gov.br/internet/deputado/ban...</td>\n",
              "    </tr>\n",
              "    <tr>\n",
              "      <th>254008</th>\n",
              "      <td>2305021-8</td>\n",
              "      <td>https://dadosabertos.camara.leg.br/api/v2/vota...</td>\n",
              "      <td>2021-11-04 14:11:09</td>\n",
              "      <td>Sim</td>\n",
              "      <td>204394</td>\n",
              "      <td>https://dadosabertos.camara.leg.br/api/v2/depu...</td>\n",
              "      <td>Gervásio Maia</td>\n",
              "      <td>PSB</td>\n",
              "      <td>https://dadosabertos.camara.leg.br/api/v2/part...</td>\n",
              "      <td>PB</td>\n",
              "      <td>56.0</td>\n",
              "      <td>http://www.camara.gov.br/internet/deputado/ban...</td>\n",
              "    </tr>\n",
              "    <tr>\n",
              "      <th>253956</th>\n",
              "      <td>2305021-8</td>\n",
              "      <td>https://dadosabertos.camara.leg.br/api/v2/vota...</td>\n",
              "      <td>2021-11-04 14:11:24</td>\n",
              "      <td>Sim</td>\n",
              "      <td>178908</td>\n",
              "      <td>https://dadosabertos.camara.leg.br/api/v2/depu...</td>\n",
              "      <td>Delegado Éder Mauro</td>\n",
              "      <td>PSD</td>\n",
              "      <td>https://dadosabertos.camara.leg.br/api/v2/part...</td>\n",
              "      <td>PA</td>\n",
              "      <td>56.0</td>\n",
              "      <td>http://www.camara.gov.br/internet/deputado/ban...</td>\n",
              "    </tr>\n",
              "  </tbody>\n",
              "</table>\n",
              "<p>475984 rows × 12 columns</p>\n",
              "</div>"
            ],
            "text/plain": [
              "         idVotacao                                         uriVotacao  \\\n",
              "25046   2179189-45  https://dadosabertos.camara.leg.br/api/v2/vota...   \n",
              "24899   2179189-45  https://dadosabertos.camara.leg.br/api/v2/vota...   \n",
              "24981   2179189-45  https://dadosabertos.camara.leg.br/api/v2/vota...   \n",
              "24848   2179189-45  https://dadosabertos.camara.leg.br/api/v2/vota...   \n",
              "24883   2179189-45  https://dadosabertos.camara.leg.br/api/v2/vota...   \n",
              "...            ...                                                ...   \n",
              "254074   2305021-8  https://dadosabertos.camara.leg.br/api/v2/vota...   \n",
              "253932   2305021-8  https://dadosabertos.camara.leg.br/api/v2/vota...   \n",
              "254100   2305021-8  https://dadosabertos.camara.leg.br/api/v2/vota...   \n",
              "254008   2305021-8  https://dadosabertos.camara.leg.br/api/v2/vota...   \n",
              "253956   2305021-8  https://dadosabertos.camara.leg.br/api/v2/vota...   \n",
              "\n",
              "              dataHoraVoto       voto  deputado_id  \\\n",
              "25046  2019-02-12 16:09:52  Obstrução       160592   \n",
              "24899  2019-02-12 16:10:00        Não       160674   \n",
              "24981  2019-02-12 16:10:02        Não       194260   \n",
              "24848  2019-02-12 16:10:05        Não       141421   \n",
              "24883  2019-02-12 16:10:09        Não        74270   \n",
              "...                    ...        ...          ...   \n",
              "254074 2021-11-04 14:09:51        Sim        92102   \n",
              "253932 2021-11-04 14:09:58        Sim       204488   \n",
              "254100 2021-11-04 14:10:16        Sim       150418   \n",
              "254008 2021-11-04 14:11:09        Sim       204394   \n",
              "253956 2021-11-04 14:11:24        Sim       178908   \n",
              "\n",
              "                                             deputado_uri  \\\n",
              "25046   https://dadosabertos.camara.leg.br/api/v2/depu...   \n",
              "24899   https://dadosabertos.camara.leg.br/api/v2/depu...   \n",
              "24981   https://dadosabertos.camara.leg.br/api/v2/depu...   \n",
              "24848   https://dadosabertos.camara.leg.br/api/v2/depu...   \n",
              "24883   https://dadosabertos.camara.leg.br/api/v2/depu...   \n",
              "...                                                   ...   \n",
              "254074  https://dadosabertos.camara.leg.br/api/v2/depu...   \n",
              "253932  https://dadosabertos.camara.leg.br/api/v2/depu...   \n",
              "254100  https://dadosabertos.camara.leg.br/api/v2/depu...   \n",
              "254008  https://dadosabertos.camara.leg.br/api/v2/depu...   \n",
              "253956  https://dadosabertos.camara.leg.br/api/v2/depu...   \n",
              "\n",
              "              deputado_nome deputado_siglaPartido  \\\n",
              "25046           Zeca Dirceu                    PT   \n",
              "24899            Hugo Motta                   PRB   \n",
              "24981   Nivaldo Albuquerque                   PTB   \n",
              "24848      Eduardo da Fonte                    PP   \n",
              "24883   Gilberto Nascimento                   PSC   \n",
              "...                     ...                   ...   \n",
              "254074  Leur Lomanto Júnior                   DEM   \n",
              "253932        Célio Studart                    PV   \n",
              "254100       Márcio Marinho          REPUBLICANOS   \n",
              "254008        Gervásio Maia                   PSB   \n",
              "253956  Delegado Éder Mauro                   PSD   \n",
              "\n",
              "                                      deputado_uriPartido deputado_siglaUf  \\\n",
              "25046   https://dadosabertos.camara.leg.br/api/v2/part...               PR   \n",
              "24899   https://dadosabertos.camara.leg.br/api/v2/part...               PB   \n",
              "24981   https://dadosabertos.camara.leg.br/api/v2/part...               AL   \n",
              "24848   https://dadosabertos.camara.leg.br/api/v2/part...               PE   \n",
              "24883   https://dadosabertos.camara.leg.br/api/v2/part...               SP   \n",
              "...                                                   ...              ...   \n",
              "254074  https://dadosabertos.camara.leg.br/api/v2/part...               BA   \n",
              "253932  https://dadosabertos.camara.leg.br/api/v2/part...               CE   \n",
              "254100  https://dadosabertos.camara.leg.br/api/v2/part...               BA   \n",
              "254008  https://dadosabertos.camara.leg.br/api/v2/part...               PB   \n",
              "253956  https://dadosabertos.camara.leg.br/api/v2/part...               PA   \n",
              "\n",
              "        deputado_idLegislatura  \\\n",
              "25046                     56.0   \n",
              "24899                     56.0   \n",
              "24981                     56.0   \n",
              "24848                     56.0   \n",
              "24883                     56.0   \n",
              "...                        ...   \n",
              "254074                    56.0   \n",
              "253932                    56.0   \n",
              "254100                    56.0   \n",
              "254008                    56.0   \n",
              "253956                    56.0   \n",
              "\n",
              "                                         deputado_urlFoto  \n",
              "25046   http://www.camara.gov.br/internet/deputado/ban...  \n",
              "24899   http://www.camara.gov.br/internet/deputado/ban...  \n",
              "24981   http://www.camara.gov.br/internet/deputado/ban...  \n",
              "24848   http://www.camara.gov.br/internet/deputado/ban...  \n",
              "24883   http://www.camara.gov.br/internet/deputado/ban...  \n",
              "...                                                   ...  \n",
              "254074  http://www.camara.gov.br/internet/deputado/ban...  \n",
              "253932  http://www.camara.gov.br/internet/deputado/ban...  \n",
              "254100  http://www.camara.gov.br/internet/deputado/ban...  \n",
              "254008  http://www.camara.gov.br/internet/deputado/ban...  \n",
              "253956  http://www.camara.gov.br/internet/deputado/ban...  \n",
              "\n",
              "[475984 rows x 12 columns]"
            ]
          },
          "execution_count": 5,
          "metadata": {},
          "output_type": "execute_result"
        }
      ],
      "source": [
        "# Collect all votes between start and end dates\n",
        "os.makedirs('data', exist_ok=True)\n",
        "for year in range(start_date.year, end_date.year + 1):\n",
        "    # Read or download votes\n",
        "    path = 'data/votacoesVotos-{}.csv'.format(year)\n",
        "    if not os.path.isfile(path) or year == 2021:\n",
        "        urllib.request.urlretrieve('https://dadosabertos.camara.leg.br/arquivos/votacoesVotos/csv/votacoesVotos-{}.csv'.format(year), path)\n",
        "    vote_data = pd.read_csv(path, sep=';')\n",
        "\n",
        "    # Remove simbolic votes\n",
        "    vote_data = vote_data[vote_data['voto'] != 'Simbólico']\n",
        "\n",
        "    # Filter dates\n",
        "    vote_data['dataHoraVoto'] = pd.to_datetime(vote_data['dataHoraVoto'])    \n",
        "    vote_data = vote_data.loc[(vote_data['dataHoraVoto'] >= start_date) & (vote_data['dataHoraVoto'] <= end_date)]\n",
        "    vote_data.sort_values(by=['dataHoraVoto'], inplace=True)\n",
        "\n",
        "    if year == start_date.year:\n",
        "        votes = vote_data\n",
        "    else:\n",
        "        votes = pd.concat([votes, vote_data])\n",
        "votes"
      ]
    },
    {
      "cell_type": "code",
      "execution_count": 6,
      "metadata": {},
      "outputs": [],
      "source": [
        "def get_total_expenses(deputy_id, start_date, end_date):\n",
        "    #expenses = []\n",
        "    total = 0.0\n",
        "    years = '&'.join(['ano={}'.format(year) for year in range(start_date.year, end_date.year+1)])\n",
        "    url = \"https://dadosabertos.camara.leg.br/api/v2/deputados/{}/despesas?{}&itens=100000&ordem=ASC&ordenarPor=ano\".format(deputy_id, years)\n",
        "    read_all = False\n",
        "    while not read_all:\n",
        "        read_all = True\n",
        "        page = requests.get(url).json()\n",
        "        if 'dados' not in page:\n",
        "            break\n",
        "        total += sum([e['valorDocumento'] for e in page['dados']])\n",
        "        #this_expenses = [{'tipo': e['tipoDespesa'], 'valor': e['valorDocumento']} for e in page['dados']]\n",
        "        #expenses.extend(this_expenses)\n",
        "        for link in page['links']:\n",
        "            if link['rel'] == 'next':\n",
        "                url = link['href']\n",
        "                read_all = False\n",
        "                break\n",
        "    return total\n",
        "\n",
        "def get_deputy_info(deputy_id):\n",
        "    url = 'https://dadosabertos.camara.leg.br/api/v2/deputados/{}'.format(deputy_id)\n",
        "    data = requests.get(url).json()['dados']\n",
        "    ultimoStatus = data['ultimoStatus']\n",
        "    today = date.today()\n",
        "    nascimento = pd.to_datetime(data['dataNascimento'])\n",
        "    idade = today.year - nascimento.year - ((today.month, today.day) < (nascimento.month, nascimento.day))\n",
        "    return {'sexo': data['sexo'], \n",
        "            'escolaridade': data['escolaridade'], \n",
        "            'idade': idade, \n",
        "            'e-mail': ultimoStatus['email'], \n",
        "            'situação': ultimoStatus['situacao'], \n",
        "            'UF Nascimento': data['ufNascimento'],\n",
        "            'cidade natal': data['municipioNascimento']}"
      ]
    },
    {
      "cell_type": "code",
      "execution_count": 7,
      "metadata": {
        "colab": {
          "base_uri": "https://localhost:8080/"
        },
        "id": "B-U3PqAMy5hy",
        "outputId": "57f815ca-6efc-4af9-eb00-e45ddd034aeb"
      },
      "outputs": [
        {
          "name": "stderr",
          "output_type": "stream",
          "text": [
            "/home/lucas/miniconda3/envs/PhD/lib/python3.9/site-packages/pandas/core/indexing.py:1732: SettingWithCopyWarning: \n",
            "A value is trying to be set on a copy of a slice from a DataFrame\n",
            "\n",
            "See the caveats in the documentation: https://pandas.pydata.org/pandas-docs/stable/user_guide/indexing.html#returning-a-view-versus-a-copy\n",
            "  self._setitem_single_block(indexer, value, name)\n"
          ]
        }
      ],
      "source": [
        "#%% Take care of different names for same deputy\n",
        "for group, df_group in votes.groupby('deputado_id'):\n",
        "    votes['deputado_nome'].loc[votes['deputado_id'] == group] = sorted(df_group['deputado_nome'].unique())[0]\n",
        "\n",
        "#%% Partidos que mudaram de nome\n",
        "votes['deputado_siglaPartido'].replace('PMDB', 'MDB', inplace=True)\n",
        "votes['deputado_siglaPartido'].replace('PRB', 'REPUBLICANOS', inplace=True)\n",
        "votes['deputado_siglaPartido'].replace('PR', 'PL', inplace=True)\n",
        "votes['deputado_siglaPartido'].replace('PATRIOTA', 'PATRI', inplace=True)\n",
        "votes['deputado_siglaPartido'].replace('PPS', 'CIDADANIA', inplace=True)\n",
        "\n",
        "# Logo dos partidos\n",
        "party_logo = {}\n",
        "for p in votes['deputado_uriPartido'].unique():\n",
        "    if not pd.isna(p):\n",
        "        dados = requests.get(p).json()['dados']\n",
        "        if dados['sigla'] == 'MDB':\n",
        "            party_logo[p] = 'https://logodownload.org/wp-content/uploads/2018/04/mdb-logo-partido.png'\n",
        "        elif dados['sigla'] == 'SOLIDARIEDADE':\n",
        "            party_logo[p] = 'https://upload.wikimedia.org/wikipedia/commons/f/fe/Logomarca_do_Partido_Solidariedade.png'\n",
        "        elif dados['sigla'] == 'PATRI':\n",
        "            party_logo[p] = 'https://upload.wikimedia.org/wikipedia/en/8/8e/Patriota_logo.png'\n",
        "        elif dados['sigla'] == 'REPUBLICANOS':\n",
        "            party_logo[p] = 'https://upload.wikimedia.org/wikipedia/en/0/0d/Republicanos_logo.png'\n",
        "        elif dados['sigla'] == 'PL':\n",
        "            party_logo[p] = 'https://upload.wikimedia.org/wikipedia/commons/0/03/PL-logo.jpg'\n",
        "        elif dados['sigla'] == 'CIDADANIA':\n",
        "            party_logo[p] = 'https://upload.wikimedia.org/wikipedia/commons/d/d7/Logo_do_Cidadania_23.png'\n",
        "        elif dados['sigla'] == 'NOVO':\n",
        "            party_logo[p] = 'https://upload.wikimedia.org/wikipedia/commons/b/b5/Novo30_AOC.png'\n",
        "        else:\n",
        "            party_logo[p] = dados['urlLogo']\n",
        "\n",
        "#all_data['deputado_siglaPartido'].replace('PPL', np.nan, inplace=True) # PPL foi incorporado\n",
        "#all_data['deputado_siglaPartido'].replace('PRP', np.nan, inplace=True) # PRP foi incorporado\n",
        "#all_data['deputado_siglaPartido'].replace('PHS', np.nan, inplace=True) # PHS foi incorporado\n",
        "# all_data = pd.merge(all_data, motions_themes, on=\"idVotacao\", how=\"inner\") \n",
        "#all_data['deputado_siglaPartido'].fillna('S.PART.', inplace=True)\n",
        "# all_data.groupby('idVotacao')['voto'].count()\n",
        "\n",
        "#all_data.to_csv('votos_{}_to_{}.csv'.format(start_date, end_date), index=False)"
      ]
    },
    {
      "cell_type": "markdown",
      "metadata": {
        "id": "SUsFl2dStN5A"
      },
      "source": [
        "## Graph Construction"
      ]
    },
    {
      "cell_type": "code",
      "execution_count": 8,
      "metadata": {
        "id": "RPP0Zesb_lqN"
      },
      "outputs": [],
      "source": [
        "def generalized_similarity(m, min_eps=0.001, max_iter=1000):\n",
        "    \"\"\" Balázs Kovács, \"A generalized model of relational similarity,\" Social Networks, 32(3), July 2010, pp. 197–211\n",
        "        Based on: https://github.com/dzinoviev/generalizedsimilarity\n",
        "    \"\"\"\n",
        "    arcs0 = m - m.mean(axis=1)[:, np.newaxis]\n",
        "    arcs1 = m.T - m.mean(axis=0)[:, np.newaxis]\n",
        "\n",
        "    eps = min_eps + 1\n",
        "    N = np.eye(m.shape[1])\n",
        "\n",
        "    iters = 0\n",
        "    while (eps > min_eps and iters < max_iter) or np.isnan(N).any():\n",
        "        M = arcs0.dot(N).dot(arcs0.T)\n",
        "        m = np.sqrt(M.diagonal())\n",
        "        M = ((M / (m+1e-8)).T / (m+1e-8)).T\n",
        "        \n",
        "        Np = arcs1.dot(M).dot(arcs1.T)\n",
        "        n = np.sqrt(Np.diagonal())\n",
        "        Np = ((Np / (n+1e-8)).T / (n+1e-8)).T\n",
        "        eps = np.abs(Np - N).max()\n",
        "        N = Np\n",
        "\n",
        "        iters += 1\n",
        "    return M\n",
        "    \n",
        "def pearson_correlation(m):\n",
        "    arcs0 = m - m.mean(axis=1)[:, np.newaxis]\n",
        "    arcs1 = m.T - m.mean(axis=0)[:, np.newaxis]\n",
        "    M = arcs0.dot(arcs0.T)\n",
        "    m = np.sqrt(M.diagonal())\n",
        "    M = ((M / m).T / m).T\n",
        "    return M\n",
        "\n",
        "def filter_edges(edges_list, num_nodes, threshold=None, density=0.1):\n",
        "    edges, weights = [], []\n",
        "    if threshold is not None:\n",
        "        for e in edges_list:\n",
        "            if e[1] >= threshold:\n",
        "                edges.append(e[0])\n",
        "                weights.append(e[1])\n",
        "    else:\n",
        "        count = int(num_nodes * (num_nodes - 1) * density / 2)\n",
        "        edges_list.sort(reverse=True, key=lambda e: e[1])\n",
        "        edges_list = edges_list[:count]\n",
        "        edges = [e[0] for e in edges_list]\n",
        "        weights = [e[1] for e in edges_list]\n",
        "    return edges, weights"
      ]
    },
    {
      "cell_type": "code",
      "execution_count": 9,
      "metadata": {
        "id": "XmGyVWA5C-2g"
      },
      "outputs": [],
      "source": [
        "# Vote Matrix\n",
        "reps = votes['deputado_nome'].unique()\n",
        "rep_to_ind = {reps[i]: i for i in range(len(reps))}\n",
        "motions = votes['idVotacao'].unique()\n",
        "motion_to_ind = {motions[i]: i for i in range(len(motions))}\n",
        "parties = [p for p in votes['deputado_siglaPartido'].unique() if pd.notna(p)]\n",
        "\n",
        "vote_matrix = np.zeros((len(reps), len(motions)))\n",
        "df_grouped = votes.groupby(['idVotacao', 'deputado_nome'])\n",
        "for group, df_group in df_grouped:\n",
        "    voto = df_group['voto'].values[0]\n",
        "    i = rep_to_ind[group[1]]\n",
        "    j = motion_to_ind[group[0]]\n",
        "    if voto == \"Sim\":\n",
        "        vote_matrix[i,j] = 1\n",
        "    elif voto == \"Não\":\n",
        "        vote_matrix[i,j] = -1"
      ]
    },
    {
      "cell_type": "code",
      "execution_count": 14,
      "metadata": {},
      "outputs": [],
      "source": [
        "# Edges Generation\n",
        "M = generalized_similarity(vote_matrix)\n",
        "edges = []\n",
        "for dep1, dep2 in combinations(range(len(reps)), 2):\n",
        "    if M[dep1,dep2] > 0:\n",
        "        edges.append(((dep1,dep2), M[dep1,dep2]))"
      ]
    },
    {
      "cell_type": "code",
      "execution_count": 15,
      "metadata": {},
      "outputs": [],
      "source": [
        "# i-graph\n",
        "graph = Graph(graph_attrs={'name': 'Câmara dos Deputados'}, directed=False)\n",
        "graph.add_vertices(reps)\n",
        "filer_edges, weights = filter_edges(edges, num_nodes=graph.vcount(), threshold=None, density=0.2) # threshold 0.9998\n",
        "graph.add_edges(filer_edges)\n",
        "graph.es['weight'] = weights\n",
        "graph.es['similarity'] = weights\n",
        "maxw = max(graph.es['weight'])\n",
        "minw = min(graph.es['weight'])\n",
        "graph.es['weight'] = [(e - minw) / (maxw - minw) for e in graph.es['weight']] # Normalize weights to [0,1]"
      ]
    },
    {
      "cell_type": "code",
      "execution_count": 52,
      "metadata": {
        "colab": {
          "base_uri": "https://localhost:8080/"
        },
        "id": "nw2hXZUlA1VS",
        "outputId": "04831456-23cc-4189-d5f5-48bfdbedbc16"
      },
      "outputs": [
        {
          "name": "stdout",
          "output_type": "stream",
          "text": [
            "[0, 1, 1, 1, 2, 3, 0, 4, 1, 1, 5, 1, 1, 5, 1, 6, 5, 7, 8, 1, 4, 4, 5, 8, 5, 1, 8, 5, 1, 1, 9, 8, 2, 2, 8, 5, 10, 11, 5, 2, 1, 2, 1, 8, 5, 2, 1, 5, 0, 2, 12, 8, 1, 4, 8, 2, 1, 13, 1, 5, 1, 0, 1, 2, 2, 1, 14, 1, 1, 5, 0, 1, 11, 1, 8, 1, 5, 15, 5, 8, 1, 1, 5, 16, 8, 2, 17, 2, 0, 1, 10, 0, 2, 18, 5, 0, 0, 0, 2, 18, 0, 1, 2, 18, 5, 1, 2, 1, 5, 1, 5, 2, 0, 8, 0, 5, 2, 5, 1, 5, 2, 1, 0, 0, 0, 1, 1, 5, 5, 5, 0, 11, 18, 1, 10, 0, 0, 18, 5, 0, 19, 1, 18, 0, 5, 0, 0, 0, 1, 20, 0, 18, 4, 0, 5, 11, 5, 2, 21, 5, 1, 2, 5, 0, 21, 1, 0, 1, 1, 5, 2, 1, 5, 2, 5, 1, 1, 18, 0, 1, 5, 5, 1, 0, 1, 1, 4, 5, 5, 2, 1, 1, 1, 2, 0, 2, 5, 5, 2, 10, 5, 4, 2, 2, 0, 0, 8, 5, 5, 1, 10, 5, 4, 0, 22, 1, 23, 0, 2, 2, 0, 2, 8, 0, 1, 1, 5, 1, 1, 8, 1, 0, 1, 2, 10, 5, 0, 2, 5, 0, 1, 0, 1, 1, 2, 0, 5, 18, 2, 8, 5, 1, 2, 5, 4, 24, 1, 0, 11, 25, 11, 1, 0, 5, 1, 0, 4, 26, 8, 1, 5, 1, 0, 2, 1, 1, 2, 0, 8, 1, 2, 5, 0, 0, 5, 4, 8, 2, 0, 0, 0, 2, 1, 1, 0, 1, 5, 2, 2, 1, 27, 10, 1, 10, 5, 10, 10, 1, 11, 1, 5, 5, 1, 5, 28, 0, 1, 5, 0, 0, 5, 4, 1, 1, 5, 0, 1, 2, 11, 5, 0, 1, 0, 1, 0, 4, 0, 2, 0, 10, 2, 0, 5, 1, 5, 29, 18, 8, 2, 0, 1, 0, 0, 5, 5, 2, 5, 1, 0, 5, 0, 1, 8, 1, 1, 2, 5, 2, 10, 10, 1, 10, 4, 1, 2, 5, 1, 1, 0, 10, 8, 10, 5, 2, 0, 2, 0, 8, 0, 2, 0, 21, 0, 1, 1, 0, 0, 1, 2, 1, 21, 1, 2, 0, 2, 0, 10, 1, 0, 1, 0, 2, 10, 0, 5, 1, 1, 5, 0, 2, 5, 0, 10, 30, 0, 2, 10, 1, 5, 10, 1, 1, 0, 2, 0, 1, 0, 31, 5, 0, 10, 5, 1, 8, 5, 1, 5, 11, 1, 2, 1, 0, 0, 5, 0, 2, 5, 8, 2, 2, 10, 5, 1, 10, 10, 0, 5, 1, 10, 1, 18, 32, 1, 1, 2, 10, 10, 5, 2, 0, 10, 4, 0, 10, 2, 0, 0, 10, 1, 1, 5, 33, 10, 11, 2, 5, 0, 18, 0, 2, 10, 2, 0, 2, 1, 0, 10, 2, 11, 34, 0, 1, 0, 4, 0, 11, 10, 35, 1, 5, 8, 36, 37, 38, 8, 39, 10, 40, 8, 41, 2, 42, 8, 43, 8, 8, 10, 8, 11, 5, 5, 8, 8, 8, 0, 2, 11, 28, 44, 11, 11, 11, 11, 4, 11, 11, 11, 11, 11, 10, 5, 11, 28, 11, 11, 11, 28, 34, 0, 34, 45, 46, 47, 48, 49]\n",
            "0.6087168055236543\n"
          ]
        },
        {
          "data": {
            "text/plain": [
              "\" graph.delete_edges()\\nedges, weights = filter_edges(edges, num_nodes=graph.vcount(), threshold=0.0, density=0.1)\\ngraph.add_edges(edges)\\ngraph.es['weight'] = weights\\ngraph.es['similarity'] = weights \""
            ]
          },
          "execution_count": 52,
          "metadata": {},
          "output_type": "execute_result"
        }
      ],
      "source": [
        "# Community Detection\n",
        "graph.vs['community'] = graph.community_leiden(weights='weight', objective_function='modularity', resolution_parameter=1, n_iterations=100).membership\n",
        "graph.vs['community_leiden'] = [str(c) for c in graph.vs['community']]\n",
        "print(graph.vs['community'])\n",
        "print(graph.modularity(graph.vs['community'], weights='weight'))\n",
        "\"\"\" graph.delete_edges()\n",
        "edges, weights = filter_edges(edges, num_nodes=graph.vcount(), threshold=0.0, density=0.1)\n",
        "graph.add_edges(edges)\n",
        "graph.es['weight'] = weights\n",
        "graph.es['similarity'] = weights \"\"\""
      ]
    },
    {
      "cell_type": "code",
      "execution_count": 53,
      "metadata": {},
      "outputs": [
        {
          "name": "stdout",
          "output_type": "stream",
          "text": [
            "IGRAPH UNW- 575 21248 -- Câmara dos Deputados\n",
            "+ attr: name (g), Foto (v), Partido (v), Partido URI (v), Total Despesas (reais) (v), UF (v), URL (v), cidade natal (v), community (v), e-mail (v), escolaridade (v), idade (v), name (v), sexo (v), situação (v), similarity (e), weight (e)\n"
          ]
        }
      ],
      "source": [
        "# Add info to nodes\n",
        "info = [votes[votes['deputado_nome']==dep] for dep in graph.vs['name']]\n",
        "graph.vs['Foto'] = [x['deputado_urlFoto'].values[-1] for x in info]\n",
        "graph.vs['UF'] = [x['deputado_siglaUf'].values[-1] for x in info]\n",
        "graph.vs['Partido'] = [x['deputado_siglaPartido'].values[-1] for x in info]\n",
        "graph.vs['URL'] =  [x['deputado_uri'].values[-1] for x in info]\n",
        "graph.vs['Partido URI'] =  [x['deputado_uriPartido'].values[-1] for x in info]\n",
        "graph.vs['Total Despesas (reais)'] = [get_total_expenses(x['deputado_id'].values[-1], start_date, end_date) for x in info]\n",
        "for i, x in enumerate(info):\n",
        "    for k, v in get_deputy_info(x['deputado_id'].values[-1]).items():\n",
        "        if i == 0:\n",
        "            graph.vs[k] = ['' for _ in range(len(graph.vs))]\n",
        "        graph.vs[i][k] = v\n",
        "\n",
        "graph.vs['betweenness'] = graph.betweenness()\n",
        "graph.vs['closeness'] = graph.closeness()\n",
        "\n",
        "summary(graph)"
      ]
    },
    {
      "cell_type": "markdown",
      "metadata": {
        "id": "2uKJ9H2zP7tu"
      },
      "source": [
        "## Visualization"
      ]
    },
    {
      "cell_type": "code",
      "execution_count": 54,
      "metadata": {
        "colab": {
          "base_uri": "https://localhost:8080/",
          "height": 543
        },
        "id": "07djBReHDUUF",
        "outputId": "8a8f6701-be9a-4d77-9be0-e99f038ffd1f"
      },
      "outputs": [
        {
          "data": {
            "text/html": [
              "\n",
              "            <iframe id=\"5dc164d3-511a-4352-95e3-15a6b3b08ea7\" src=\"https://hub.graphistry.com/graph/graph.html?dataset=40faa37f709b4d16b7181e681387cf7d&type=arrow&viztoken=c8f6d0e3-ee01-4078-9410-1c33a39c0ba9&usertag=59684bd4-pygraphistry-0.20.2&splashAfter=1636398120&info=True&pageTitle=Câmara dos Deputados&play=2000&menu=True&strongGravity=True&showArrows=False&pointSize=5.0&pointsOfInterestMax=100&edgeInfluence=20\"\n",
              "                    allowfullscreen=\"true\" webkitallowfullscreen=\"true\" mozallowfullscreen=\"true\"\n",
              "                    oallowfullscreen=\"true\" msallowfullscreen=\"true\"\n",
              "                    style=\"width:100%; height:500px; border: 1px solid #DDD; overflow: hidden\">\n",
              "            </iframe>\n",
              "        \n",
              "            <script>\n",
              "                try {\n",
              "                  $(\"#5dc164d3-511a-4352-95e3-15a6b3b08ea7\").bind('mousewheel', function(e) { e.preventDefault(); });\n",
              "                } catch (e) { console.error('exn catching scroll', e); }\n",
              "            </script>\n",
              "        "
            ],
            "text/plain": [
              "<IPython.core.display.HTML object>"
            ]
          },
          "execution_count": 54,
          "metadata": {},
          "output_type": "execute_result"
        }
      ],
      "source": [
        "g = graphistry.bind(source='src', destination='dst', \n",
        "                    point_label='name', \n",
        "                    edge_weight='similarity', \n",
        "                    edge_label='similarity', \n",
        "                    edge_size='similarity',\n",
        "                    point_color='community')\n",
        "(e_df, n_df) = g.igraph2pandas(graph)\n",
        "g = g.nodes(n_df).edges(e_df)\n",
        "g = g.nodes(lambda g: g._nodes.assign(community=g._nodes['community'].astype('int32')))\n",
        "g = g.addStyle(bg={'color': 'white'}, page={'title': 'Câmara dos Deputados'}) \n",
        "g = g.encode_point_icon('Partido URI', categorical_mapping=party_logo, shape='circle')\n",
        "g = g.settings(url_params={\n",
        "    'pageTitle': 'Câmara dos Deputados',\n",
        "    'play': 2000,\n",
        "    'menu': True, \n",
        "    'info': True,\n",
        "    'strongGravity': True,\n",
        "    'showArrows': False,\n",
        "    'pointSize': 5.0,\n",
        "    'pointsOfInterestMax': 100,\n",
        "    'edgeInfluence': 0.2})\n",
        "g.plot(render=True)"
      ]
    }
  ],
  "metadata": {
    "colab": {
      "include_colab_link": true,
      "name": "vote-network.ipynb",
      "provenance": [],
      "toc_visible": true
    },
    "interpreter": {
      "hash": "9ca7ddddbdb4ba73e108b0b6f8849f53dfbdd3c4370f8b288b8abe6f0568bc83"
    },
    "kernelspec": {
      "display_name": "Python 3.9.7 64-bit ('PhD': conda)",
      "name": "python3"
    },
    "language_info": {
      "codemirror_mode": {
        "name": "ipython",
        "version": 3
      },
      "file_extension": ".py",
      "mimetype": "text/x-python",
      "name": "python",
      "nbconvert_exporter": "python",
      "pygments_lexer": "ipython3",
      "version": "3.9.5"
    }
  },
  "nbformat": 4,
  "nbformat_minor": 2
}
